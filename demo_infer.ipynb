{
 "cells": [
  {
   "cell_type": "code",
   "execution_count": null,
   "id": "initial_id",
   "metadata": {
    "collapsed": true
   },
   "outputs": [],
   "source": "!python model_infer_single.py --image ./test/xxx.jpg --prompt \"请描述图片中方块的数量、颜色、堆叠和相对位置\"\n"
  },
  {
   "metadata": {},
   "cell_type": "code",
   "outputs": [],
   "execution_count": null,
   "source": [
    "from model_infer_single import load_model, run_inference\n",
    "from PIL import Image\n",
    "\n",
    "model, processor = load_model(\"Qwen/Qwen2.5-Omni-3B\")\n",
    "image = Image.open(\"./test/xxx.jpg\").convert(\"RGB\")\n",
    "prompt = \"请描述图片中方块的数量、颜色、堆叠和相对位置\"\n",
    "\n",
    "result = run_inference(model, processor, image, prompt)\n",
    "print(result)\n"
   ],
   "id": "6c5aff17c7bde675"
  },
  {
   "metadata": {},
   "cell_type": "markdown",
   "source": [
    "\n",
    "\n",
    "\n",
    "\n"
   ],
   "id": "5ea001f190e0e668"
  },
  {
   "metadata": {
    "ExecuteTime": {
     "end_time": "2025-06-10T17:05:58.620190Z",
     "start_time": "2025-06-10T17:05:58.604237Z"
    }
   },
   "cell_type": "code",
   "source": "import torch; print(torch.__version__, torch.version.cuda)",
   "id": "c4dea4a9d664d152",
   "outputs": [
    {
     "name": "stdout",
     "output_type": "stream",
     "text": [
      "2.6.0+cpu None\n"
     ]
    }
   ],
   "execution_count": 5
  },
  {
   "metadata": {},
   "cell_type": "code",
   "outputs": [],
   "execution_count": null,
   "source": "",
   "id": "7938ee9fe9b30bad"
  }
 ],
 "metadata": {
  "kernelspec": {
   "display_name": "Python 3",
   "language": "python",
   "name": "python3"
  },
  "language_info": {
   "codemirror_mode": {
    "name": "ipython",
    "version": 2
   },
   "file_extension": ".py",
   "mimetype": "text/x-python",
   "name": "python",
   "nbconvert_exporter": "python",
   "pygments_lexer": "ipython2",
   "version": "2.7.6"
  }
 },
 "nbformat": 4,
 "nbformat_minor": 5
}
